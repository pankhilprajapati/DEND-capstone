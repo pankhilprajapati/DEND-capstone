{
 "cells": [
  {
   "cell_type": "markdown",
   "metadata": {},
   "source": [
    "# Project Title\n",
    "### Data Engineering Capstone Project\n",
    "\n",
    "#### Project Summary\n",
    "The goal of this project is to create an ETL pipeline using The World Development Indicator data (The World Development Indicators from the World Bank contain over a thousand annual indicators of economic development from hundreds of countries around the world).. This database can be used to answer questions relating how the development in the certain country is measure and what are the various censis \n",
    "\n",
    "\n",
    "The project follows the follow steps:\n",
    "* Step 1: Scope the Project and Gather Data\n",
    "* Step 2: Explore and Assess the Data\n",
    "* Step 3: Define the Data Model\n",
    "* Step 4: Run ETL to Model the Data\n",
    "* Step 5: Complete Project Write Up"
   ]
  },
  {
   "cell_type": "code",
   "execution_count": 99,
   "metadata": {},
   "outputs": [],
   "source": [
    "import pandas as pd\n",
    "import numpy as np\n",
    "import matplotlib.pyplot as plt\n",
    "from pyspark.sql import SparkSession\n",
    "from pyspark.sql import SQLContext\n",
    "import pyspark.sql.functions as F\n",
    "from pyspark.sql.types import *\n",
    "import configparser\n",
    "from datetime import datetime\n",
    "import os\n",
    "import sql_queries as sql\n",
    "import psycopg2"
   ]
  },
  {
   "cell_type": "markdown",
   "metadata": {},
   "source": [
    "### Step 1: Scope the Project and Gather Data\n",
    "\n",
    "#### Scope \n",
    "In this project using the dataset given contain the 6 dataset that has certain factor to measure the various thing so the data is mapped with each other by certern key columns which are present in the data\n",
    "\n",
    "#### Describe and Gather Data \n",
    " The World Development Indicators from the World Bank contain over a thousand annual indicators of economic development from hundreds of countries around the world. Below are the six dataset that were given\n",
    "Country.csv\n",
    "\n",
    "\n",
    "CountryNotes.csv\n",
    "\n",
    "\n",
    "Footnotes.csv\n",
    "\n",
    "\n",
    "Indicators.csv\n",
    "\n",
    "\n",
    "Series.csv\n",
    "\n",
    "\n",
    "SeriesNotes.csv\n"
   ]
  },
  {
   "cell_type": "code",
   "execution_count": 3,
   "metadata": {},
   "outputs": [],
   "source": [
    "config = configparser.ConfigParser()\n",
    "config.read('capstone.cfg')\n",
    "\n",
    "os.environ['AWS_ACCESS_KEY_ID']=config['AWS']['AWS_ACCESS_KEY_ID']\n",
    "os.environ['AWS_SECRET_ACCESS_KEY']=config['AWS']['AWS_SECRET_ACCESS_KEY']"
   ]
  },
  {
   "cell_type": "code",
   "execution_count": 4,
   "metadata": {},
   "outputs": [],
   "source": [
    "spark = SparkSession.builder\\\n",
    "    .config(\"spark.jars.packages\", \"org.apache.hadoop:hadoop-aws:2.7.0\") \\\n",
    "    .getOrCreate()"
   ]
  },
  {
   "cell_type": "code",
   "execution_count": 5,
   "metadata": {},
   "outputs": [],
   "source": [
    "sqlContext = SQLContext(spark.sparkContext)"
   ]
  },
  {
   "cell_type": "code",
   "execution_count": 6,
   "metadata": {},
   "outputs": [],
   "source": [
    "csv_country = \"WorldInd/Country.csv\"\n",
    "csv_cnotes = \"WorldInd/CountryNotes.csv\"\n",
    "csv_fnotes = \"WorldInd/Footnotes.csv\"\n",
    "csv_indicator = \"WorldInd/Indicators.csv\"\n",
    "csv_series = \"WorldInd/Series.csv\"\n",
    "csv_snotes = \"WorldInd/SeriesNotes.csv\""
   ]
  },
  {
   "cell_type": "code",
   "execution_count": 7,
   "metadata": {},
   "outputs": [],
   "source": [
    "df_country = pd.read_csv(csv_country)\n",
    "df_cnotes = pd.read_csv(csv_cnotes)\n",
    "df_fnotes = pd.read_csv(csv_fnotes)\n",
    "df_indicator = pd.read_csv(csv_indicator)\n",
    "df_series = pd.read_csv(csv_series)\n",
    "df_snotes = pd.read_csv(csv_snotes)"
   ]
  },
  {
   "cell_type": "markdown",
   "metadata": {},
   "source": [
    "### Step 2: Explore and Assess the Data\n",
    "#### Explore the Data \n",
    "Converting the pandas dataframe to spark dataframe (doing this because the directly reading tfrom the spark was causing the wrong data to be in the wrong column)\n",
    "Identify data quality issues, like missing values, duplicate data, etc.\n",
    "\n",
    "#### Cleaning Steps\n",
    "checking data taking only required column and converting the data to proper datatype.\n",
    "Drop the columns which are not require"
   ]
  },
  {
   "cell_type": "code",
   "execution_count": 8,
   "metadata": {},
   "outputs": [],
   "source": [
    "from pyspark.sql.types import *\n",
    "\n",
    "# Auxiliar functions\n",
    "def equivalent_type(f):\n",
    "    if f == 'datetime64[ns]': return DateType()\n",
    "    elif f == 'int64': return LongType()\n",
    "    elif f == 'int32': return IntegerType()\n",
    "    elif f == 'float64': return FloatType()\n",
    "    else: return StringType()\n",
    "\n",
    "def define_structure(string, format_type):\n",
    "    try: typo = equivalent_type(format_type)\n",
    "    except: typo = StringType()\n",
    "    return StructField(string, typo)\n",
    "\n",
    "\n",
    "# Given pandas dataframe, it will return a spark's dataframe.\n",
    "def pandas_to_spark(pandas_df):\n",
    "    columns = list(pandas_df.columns)\n",
    "    types = list(pandas_df.dtypes)\n",
    "    struct_list = []\n",
    "    for column, typo in zip(columns, types): \n",
    "        struct_list.append(define_structure(column, typo))\n",
    "    p_schema = StructType(struct_list)\n",
    "    return sqlContext.createDataFrame(pandas_df, p_schema)\n"
   ]
  },
  {
   "cell_type": "code",
   "execution_count": 9,
   "metadata": {},
   "outputs": [],
   "source": [
    "df_country = pandas_to_spark(df_country)"
   ]
  },
  {
   "cell_type": "code",
   "execution_count": 10,
   "metadata": {},
   "outputs": [],
   "source": [
    "df_cnotes = pandas_to_spark(df_cnotes)\n",
    "df_fnotes = pandas_to_spark(df_fnotes.head(5000))\n",
    "df_indicator = pandas_to_spark(df_indicator.head(5000))\n",
    "df_series = pandas_to_spark(df_series)\n",
    "df_snotes = pandas_to_spark(df_snotes)\n"
   ]
  },
  {
   "cell_type": "code",
   "execution_count": 11,
   "metadata": {},
   "outputs": [],
   "source": [
    "# PK in country = (CountryCode)"
   ]
  },
  {
   "cell_type": "code",
   "execution_count": 12,
   "metadata": {},
   "outputs": [
    {
     "name": "stdout",
     "output_type": "stream",
     "text": [
      "root\n",
      " |-- CountryCode: string (nullable = true)\n",
      " |-- ShortName: string (nullable = true)\n",
      " |-- TableName: string (nullable = true)\n",
      " |-- LongName: string (nullable = true)\n",
      " |-- Alpha2Code: string (nullable = true)\n",
      " |-- CurrencyUnit: string (nullable = true)\n",
      " |-- SpecialNotes: string (nullable = true)\n",
      " |-- Region: string (nullable = true)\n",
      " |-- IncomeGroup: string (nullable = true)\n",
      " |-- Wb2Code: string (nullable = true)\n",
      " |-- NationalAccountsBaseYear: string (nullable = true)\n",
      " |-- NationalAccountsReferenceYear: string (nullable = true)\n",
      " |-- SnaPriceValuation: string (nullable = true)\n",
      " |-- LendingCategory: string (nullable = true)\n",
      " |-- OtherGroups: string (nullable = true)\n",
      " |-- SystemOfNationalAccounts: string (nullable = true)\n",
      " |-- AlternativeConversionFactor: string (nullable = true)\n",
      " |-- PppSurveyYear: string (nullable = true)\n",
      " |-- BalanceOfPaymentsManualInUse: string (nullable = true)\n",
      " |-- ExternalDebtReportingStatus: string (nullable = true)\n",
      " |-- SystemOfTrade: string (nullable = true)\n",
      " |-- GovernmentAccountingConcept: string (nullable = true)\n",
      " |-- ImfDataDisseminationStandard: string (nullable = true)\n",
      " |-- LatestPopulationCensus: string (nullable = true)\n",
      " |-- LatestHouseholdSurvey: string (nullable = true)\n",
      " |-- SourceOfMostRecentIncomeAndExpenditureData: string (nullable = true)\n",
      " |-- VitalRegistrationComplete: string (nullable = true)\n",
      " |-- LatestAgriculturalCensus: string (nullable = true)\n",
      " |-- LatestIndustrialData: float (nullable = true)\n",
      " |-- LatestTradeData: float (nullable = true)\n",
      " |-- LatestWaterWithdrawalData: float (nullable = true)\n",
      "\n"
     ]
    }
   ],
   "source": [
    "df_country.printSchema()"
   ]
  },
  {
   "cell_type": "code",
   "execution_count": 13,
   "metadata": {},
   "outputs": [
    {
     "data": {
      "text/plain": [
       "247"
      ]
     },
     "execution_count": 13,
     "metadata": {},
     "output_type": "execute_result"
    }
   ],
   "source": [
    "df_country.count()"
   ]
  },
  {
   "cell_type": "code",
   "execution_count": 14,
   "metadata": {},
   "outputs": [],
   "source": [
    "# PK in cnotes = (CountryCode, SeriesCode)"
   ]
  },
  {
   "cell_type": "code",
   "execution_count": 15,
   "metadata": {},
   "outputs": [
    {
     "name": "stdout",
     "output_type": "stream",
     "text": [
      "root\n",
      " |-- Countrycode: string (nullable = true)\n",
      " |-- Seriescode: string (nullable = true)\n",
      " |-- Description: string (nullable = true)\n",
      "\n"
     ]
    }
   ],
   "source": [
    "df_cnotes.printSchema()"
   ]
  },
  {
   "cell_type": "code",
   "execution_count": 16,
   "metadata": {},
   "outputs": [
    {
     "data": {
      "text/plain": [
       "4857"
      ]
     },
     "execution_count": 16,
     "metadata": {},
     "output_type": "execute_result"
    }
   ],
   "source": [
    "df_cnotes.count()"
   ]
  },
  {
   "cell_type": "code",
   "execution_count": 17,
   "metadata": {},
   "outputs": [],
   "source": [
    "# PK for fnotes = (Countrycode,Year)"
   ]
  },
  {
   "cell_type": "code",
   "execution_count": 18,
   "metadata": {},
   "outputs": [
    {
     "name": "stdout",
     "output_type": "stream",
     "text": [
      "root\n",
      " |-- Countrycode: string (nullable = true)\n",
      " |-- Seriescode: string (nullable = true)\n",
      " |-- Year: string (nullable = true)\n",
      " |-- Description: string (nullable = true)\n",
      "\n"
     ]
    }
   ],
   "source": [
    "df_fnotes.printSchema()"
   ]
  },
  {
   "cell_type": "code",
   "execution_count": 19,
   "metadata": {},
   "outputs": [
    {
     "data": {
      "text/plain": [
       "5000"
      ]
     },
     "execution_count": 19,
     "metadata": {},
     "output_type": "execute_result"
    }
   ],
   "source": [
    "df_fnotes.count()"
   ]
  },
  {
   "cell_type": "code",
   "execution_count": 20,
   "metadata": {},
   "outputs": [],
   "source": [
    "# PK in indicator = (CountryCode, IndicatorCode)"
   ]
  },
  {
   "cell_type": "code",
   "execution_count": 21,
   "metadata": {},
   "outputs": [
    {
     "name": "stdout",
     "output_type": "stream",
     "text": [
      "root\n",
      " |-- CountryName: string (nullable = true)\n",
      " |-- CountryCode: string (nullable = true)\n",
      " |-- IndicatorName: string (nullable = true)\n",
      " |-- IndicatorCode: string (nullable = true)\n",
      " |-- Year: long (nullable = true)\n",
      " |-- Value: float (nullable = true)\n",
      "\n"
     ]
    }
   ],
   "source": [
    "df_indicator.printSchema()"
   ]
  },
  {
   "cell_type": "code",
   "execution_count": 22,
   "metadata": {},
   "outputs": [],
   "source": [
    "# Pk in Series = (Seriescode,Indicator)"
   ]
  },
  {
   "cell_type": "code",
   "execution_count": 23,
   "metadata": {},
   "outputs": [
    {
     "name": "stdout",
     "output_type": "stream",
     "text": [
      "root\n",
      " |-- SeriesCode: string (nullable = true)\n",
      " |-- Topic: string (nullable = true)\n",
      " |-- IndicatorName: string (nullable = true)\n",
      " |-- ShortDefinition: string (nullable = true)\n",
      " |-- LongDefinition: string (nullable = true)\n",
      " |-- UnitOfMeasure: string (nullable = true)\n",
      " |-- Periodicity: string (nullable = true)\n",
      " |-- BasePeriod: string (nullable = true)\n",
      " |-- OtherNotes: float (nullable = true)\n",
      " |-- AggregationMethod: string (nullable = true)\n",
      " |-- LimitationsAndExceptions: string (nullable = true)\n",
      " |-- NotesFromOriginalSource: string (nullable = true)\n",
      " |-- GeneralComments: string (nullable = true)\n",
      " |-- Source: string (nullable = true)\n",
      " |-- StatisticalConceptAndMethodology: string (nullable = true)\n",
      " |-- DevelopmentRelevance: string (nullable = true)\n",
      " |-- RelatedSourceLinks: string (nullable = true)\n",
      " |-- OtherWebLinks: float (nullable = true)\n",
      " |-- RelatedIndicators: float (nullable = true)\n",
      " |-- LicenseType: string (nullable = true)\n",
      "\n"
     ]
    }
   ],
   "source": [
    "df_series.printSchema()"
   ]
  },
  {
   "cell_type": "code",
   "execution_count": 24,
   "metadata": {},
   "outputs": [],
   "source": [
    "# Pk in SeriesNotes = (Seriescode,Year)"
   ]
  },
  {
   "cell_type": "code",
   "execution_count": 25,
   "metadata": {},
   "outputs": [
    {
     "name": "stdout",
     "output_type": "stream",
     "text": [
      "root\n",
      " |-- Seriescode: string (nullable = true)\n",
      " |-- Year: string (nullable = true)\n",
      " |-- Description: string (nullable = true)\n",
      "\n"
     ]
    }
   ],
   "source": [
    "df_snotes.printSchema()"
   ]
  },
  {
   "cell_type": "code",
   "execution_count": 26,
   "metadata": {},
   "outputs": [],
   "source": [
    "df = df_country.toPandas()"
   ]
  },
  {
   "cell_type": "code",
   "execution_count": 27,
   "metadata": {},
   "outputs": [
    {
     "data": {
      "text/html": [
       "<div>\n",
       "<style scoped>\n",
       "    .dataframe tbody tr th:only-of-type {\n",
       "        vertical-align: middle;\n",
       "    }\n",
       "\n",
       "    .dataframe tbody tr th {\n",
       "        vertical-align: top;\n",
       "    }\n",
       "\n",
       "    .dataframe thead th {\n",
       "        text-align: right;\n",
       "    }\n",
       "</style>\n",
       "<table border=\"1\" class=\"dataframe\">\n",
       "  <thead>\n",
       "    <tr style=\"text-align: right;\">\n",
       "      <th></th>\n",
       "      <th>CountryCode</th>\n",
       "      <th>ShortName</th>\n",
       "      <th>TableName</th>\n",
       "      <th>LongName</th>\n",
       "      <th>Alpha2Code</th>\n",
       "      <th>CurrencyUnit</th>\n",
       "      <th>SpecialNotes</th>\n",
       "      <th>Region</th>\n",
       "      <th>IncomeGroup</th>\n",
       "      <th>Wb2Code</th>\n",
       "      <th>...</th>\n",
       "      <th>GovernmentAccountingConcept</th>\n",
       "      <th>ImfDataDisseminationStandard</th>\n",
       "      <th>LatestPopulationCensus</th>\n",
       "      <th>LatestHouseholdSurvey</th>\n",
       "      <th>SourceOfMostRecentIncomeAndExpenditureData</th>\n",
       "      <th>VitalRegistrationComplete</th>\n",
       "      <th>LatestAgriculturalCensus</th>\n",
       "      <th>LatestIndustrialData</th>\n",
       "      <th>LatestTradeData</th>\n",
       "      <th>LatestWaterWithdrawalData</th>\n",
       "    </tr>\n",
       "  </thead>\n",
       "  <tbody>\n",
       "    <tr>\n",
       "      <th>0</th>\n",
       "      <td>AFG</td>\n",
       "      <td>Afghanistan</td>\n",
       "      <td>Afghanistan</td>\n",
       "      <td>Islamic State of Afghanistan</td>\n",
       "      <td>AF</td>\n",
       "      <td>Afghan afghani</td>\n",
       "      <td>Fiscal year end: March 20; reporting period fo...</td>\n",
       "      <td>South Asia</td>\n",
       "      <td>Low income</td>\n",
       "      <td>AF</td>\n",
       "      <td>...</td>\n",
       "      <td>Consolidated central government</td>\n",
       "      <td>General Data Dissemination System (GDDS)</td>\n",
       "      <td>1979</td>\n",
       "      <td>Multiple Indicator Cluster Survey (MICS), 2010/11</td>\n",
       "      <td>Integrated household survey (IHS), 2008</td>\n",
       "      <td>NaN</td>\n",
       "      <td>2013/14</td>\n",
       "      <td>NaN</td>\n",
       "      <td>2013.0</td>\n",
       "      <td>2000.0</td>\n",
       "    </tr>\n",
       "  </tbody>\n",
       "</table>\n",
       "<p>1 rows × 31 columns</p>\n",
       "</div>"
      ],
      "text/plain": [
       "  CountryCode    ShortName    TableName                      LongName  \\\n",
       "0         AFG  Afghanistan  Afghanistan  Islamic State of Afghanistan   \n",
       "\n",
       "  Alpha2Code    CurrencyUnit  \\\n",
       "0         AF  Afghan afghani   \n",
       "\n",
       "                                        SpecialNotes      Region IncomeGroup  \\\n",
       "0  Fiscal year end: March 20; reporting period fo...  South Asia  Low income   \n",
       "\n",
       "  Wb2Code            ...                 GovernmentAccountingConcept  \\\n",
       "0      AF            ...             Consolidated central government   \n",
       "\n",
       "               ImfDataDisseminationStandard LatestPopulationCensus  \\\n",
       "0  General Data Dissemination System (GDDS)                   1979   \n",
       "\n",
       "                               LatestHouseholdSurvey  \\\n",
       "0  Multiple Indicator Cluster Survey (MICS), 2010/11   \n",
       "\n",
       "  SourceOfMostRecentIncomeAndExpenditureData VitalRegistrationComplete  \\\n",
       "0    Integrated household survey (IHS), 2008                       NaN   \n",
       "\n",
       "  LatestAgriculturalCensus LatestIndustrialData LatestTradeData  \\\n",
       "0                  2013/14                  NaN          2013.0   \n",
       "\n",
       "  LatestWaterWithdrawalData  \n",
       "0                    2000.0  \n",
       "\n",
       "[1 rows x 31 columns]"
      ]
     },
     "execution_count": 27,
     "metadata": {},
     "output_type": "execute_result"
    }
   ],
   "source": [
    "df.head(1)"
   ]
  },
  {
   "cell_type": "code",
   "execution_count": 28,
   "metadata": {},
   "outputs": [
    {
     "data": {
      "text/plain": [
       "247"
      ]
     },
     "execution_count": 28,
     "metadata": {},
     "output_type": "execute_result"
    }
   ],
   "source": [
    "df.CountryCode.count()"
   ]
  },
  {
   "cell_type": "markdown",
   "metadata": {},
   "source": [
    "#### Droping unrequired data"
   ]
  },
  {
   "cell_type": "code",
   "execution_count": 29,
   "metadata": {},
   "outputs": [],
   "source": [
    "not_req_and_mostly_null = ['ShortDefinition','UnitOfMeasure','BasePeriod',\n",
    "                           'OtherNotes','AggregationMethod','OtherNotes','AggregationMethod',\n",
    "                           'LimitationsAndExceptions','NotesFromOriginalSource','GeneralComments',\n",
    "                          'StatisticalConceptAndMethodology','DevelopmentRelevance','RelatedSourceLinks'\n",
    "                          ,'OtherWebLinks','RelatedIndicators']"
   ]
  },
  {
   "cell_type": "code",
   "execution_count": 30,
   "metadata": {},
   "outputs": [],
   "source": [
    "df_series = df_series.drop(*not_req_and_mostly_null)"
   ]
  },
  {
   "cell_type": "code",
   "execution_count": 31,
   "metadata": {},
   "outputs": [
    {
     "name": "stdout",
     "output_type": "stream",
     "text": [
      "root\n",
      " |-- SeriesCode: string (nullable = true)\n",
      " |-- Topic: string (nullable = true)\n",
      " |-- IndicatorName: string (nullable = true)\n",
      " |-- LongDefinition: string (nullable = true)\n",
      " |-- Periodicity: string (nullable = true)\n",
      " |-- Source: string (nullable = true)\n",
      " |-- LicenseType: string (nullable = true)\n",
      "\n"
     ]
    }
   ],
   "source": [
    "df_series.printSchema()"
   ]
  },
  {
   "cell_type": "code",
   "execution_count": 33,
   "metadata": {},
   "outputs": [],
   "source": [
    "# clean country"
   ]
  },
  {
   "cell_type": "code",
   "execution_count": 34,
   "metadata": {},
   "outputs": [],
   "source": [
    "not_req_country = ['SpecialNotes','NationalAccountsReferenceYear','LendingCategory',\n",
    "                    'OtherGroups','AlternativeConversionFactor','PppSurveyYear',\n",
    "                    'ExternalDebtReportingStatus','ExternalDebtReportingStatus',\n",
    "                    'LatestHouseholdSurvey','SourceOfMostRecentIncomeAndExpenditureData',\n",
    "                    'VitalRegistrationComplete','LatestAgriculturalCensus']"
   ]
  },
  {
   "cell_type": "code",
   "execution_count": 35,
   "metadata": {},
   "outputs": [],
   "source": [
    "df_country = df_country.drop(*not_req_country)"
   ]
  },
  {
   "cell_type": "code",
   "execution_count": 36,
   "metadata": {},
   "outputs": [
    {
     "name": "stdout",
     "output_type": "stream",
     "text": [
      "root\n",
      " |-- CountryCode: string (nullable = true)\n",
      " |-- ShortName: string (nullable = true)\n",
      " |-- TableName: string (nullable = true)\n",
      " |-- LongName: string (nullable = true)\n",
      " |-- Alpha2Code: string (nullable = true)\n",
      " |-- CurrencyUnit: string (nullable = true)\n",
      " |-- Region: string (nullable = true)\n",
      " |-- IncomeGroup: string (nullable = true)\n",
      " |-- Wb2Code: string (nullable = true)\n",
      " |-- NationalAccountsBaseYear: string (nullable = true)\n",
      " |-- SnaPriceValuation: string (nullable = true)\n",
      " |-- SystemOfNationalAccounts: string (nullable = true)\n",
      " |-- BalanceOfPaymentsManualInUse: string (nullable = true)\n",
      " |-- SystemOfTrade: string (nullable = true)\n",
      " |-- GovernmentAccountingConcept: string (nullable = true)\n",
      " |-- ImfDataDisseminationStandard: string (nullable = true)\n",
      " |-- LatestPopulationCensus: string (nullable = true)\n",
      " |-- LatestIndustrialData: float (nullable = true)\n",
      " |-- LatestTradeData: float (nullable = true)\n",
      " |-- LatestWaterWithdrawalData: float (nullable = true)\n",
      "\n"
     ]
    }
   ],
   "source": [
    "df_country.printSchema()"
   ]
  },
  {
   "cell_type": "markdown",
   "metadata": {},
   "source": [
    "#### Datatype assigning step"
   ]
  },
  {
   "cell_type": "code",
   "execution_count": 37,
   "metadata": {},
   "outputs": [],
   "source": [
    "def cast_type(df, cols):\n",
    "    \"\"\"\n",
    "    Convert the types of the columns according to the configuration supplied in the cols dictionary in the format {\"column_name\": type}\n",
    "    \n",
    "    Args:\n",
    "        df (:obj:`SparkDataFrame`): Spark dataframe to be processed. \n",
    "            Represents the entry point to programming Spark with the Dataset and DataFrame API.\n",
    "        cols (:obj:`dict`): Dictionary in the format of {\"column_name\": type} indicating what columns and types they should be converted to\n",
    "    \"\"\"\n",
    "    for k,v in cols.items():\n",
    "        if k in df.columns:\n",
    "            df = df.withColumn(k, df[k].cast(v))\n",
    "    return df"
   ]
  },
  {
   "cell_type": "code",
   "execution_count": 38,
   "metadata": {},
   "outputs": [],
   "source": [
    "int_cols_country = ['NationalAccountsBaseYear','LatestPopulationCensus','LatestIndustrialData'\n",
    "                   ,'LatestTradeData','LatestWaterWithdrawalData']"
   ]
  },
  {
   "cell_type": "code",
   "execution_count": 39,
   "metadata": {},
   "outputs": [],
   "source": [
    "df_country = cast_type(df_country, dict(zip(int_cols_country, len(int_cols_country)*[IntegerType()])))"
   ]
  },
  {
   "cell_type": "code",
   "execution_count": 40,
   "metadata": {},
   "outputs": [
    {
     "name": "stdout",
     "output_type": "stream",
     "text": [
      "root\n",
      " |-- CountryCode: string (nullable = true)\n",
      " |-- ShortName: string (nullable = true)\n",
      " |-- TableName: string (nullable = true)\n",
      " |-- LongName: string (nullable = true)\n",
      " |-- Alpha2Code: string (nullable = true)\n",
      " |-- CurrencyUnit: string (nullable = true)\n",
      " |-- Region: string (nullable = true)\n",
      " |-- IncomeGroup: string (nullable = true)\n",
      " |-- Wb2Code: string (nullable = true)\n",
      " |-- NationalAccountsBaseYear: integer (nullable = true)\n",
      " |-- SnaPriceValuation: string (nullable = true)\n",
      " |-- SystemOfNationalAccounts: string (nullable = true)\n",
      " |-- BalanceOfPaymentsManualInUse: string (nullable = true)\n",
      " |-- SystemOfTrade: string (nullable = true)\n",
      " |-- GovernmentAccountingConcept: string (nullable = true)\n",
      " |-- ImfDataDisseminationStandard: string (nullable = true)\n",
      " |-- LatestPopulationCensus: integer (nullable = true)\n",
      " |-- LatestIndustrialData: integer (nullable = true)\n",
      " |-- LatestTradeData: integer (nullable = true)\n",
      " |-- LatestWaterWithdrawalData: integer (nullable = true)\n",
      "\n"
     ]
    }
   ],
   "source": [
    "df_country.printSchema()"
   ]
  },
  {
   "cell_type": "code",
   "execution_count": 41,
   "metadata": {},
   "outputs": [],
   "source": [
    "df_country=df_country.withColumnRenamed(\"CountryName\",\"MediumName\")"
   ]
  },
  {
   "cell_type": "markdown",
   "metadata": {},
   "source": [
    "### Check for null after removing the columns not required"
   ]
  },
  {
   "cell_type": "code",
   "execution_count": 42,
   "metadata": {},
   "outputs": [],
   "source": [
    "def countNull(df):\n",
    "    nulls_l=[]\n",
    "    for col in df.columns:\n",
    "        nulls_d={}\n",
    "        n_null=df.select(col).filter(F.col(col).isNull()).count()\n",
    "        if n_null > 0:\n",
    "            nulls_d[\"Column\"]=col\n",
    "            nulls_d[\"Nulls\"]=n_null\n",
    "            nulls_l.append(nulls_d)\n",
    "    if len(nulls_l)>0:\n",
    "        display(pd.DataFrame(nulls_l))\n",
    "    else: print(\"No Nulls\")"
   ]
  },
  {
   "cell_type": "code",
   "execution_count": 43,
   "metadata": {},
   "outputs": [
    {
     "data": {
      "text/html": [
       "<div>\n",
       "<style scoped>\n",
       "    .dataframe tbody tr th:only-of-type {\n",
       "        vertical-align: middle;\n",
       "    }\n",
       "\n",
       "    .dataframe tbody tr th {\n",
       "        vertical-align: top;\n",
       "    }\n",
       "\n",
       "    .dataframe thead th {\n",
       "        text-align: right;\n",
       "    }\n",
       "</style>\n",
       "<table border=\"1\" class=\"dataframe\">\n",
       "  <thead>\n",
       "    <tr style=\"text-align: right;\">\n",
       "      <th></th>\n",
       "      <th>Column</th>\n",
       "      <th>Nulls</th>\n",
       "    </tr>\n",
       "  </thead>\n",
       "  <tbody>\n",
       "    <tr>\n",
       "      <th>0</th>\n",
       "      <td>NationalAccountsBaseYear</td>\n",
       "      <td>109</td>\n",
       "    </tr>\n",
       "    <tr>\n",
       "      <th>1</th>\n",
       "      <td>LatestPopulationCensus</td>\n",
       "      <td>39</td>\n",
       "    </tr>\n",
       "  </tbody>\n",
       "</table>\n",
       "</div>"
      ],
      "text/plain": [
       "                     Column  Nulls\n",
       "0  NationalAccountsBaseYear    109\n",
       "1    LatestPopulationCensus     39"
      ]
     },
     "metadata": {},
     "output_type": "display_data"
    }
   ],
   "source": [
    "countNull(df_country)"
   ]
  },
  {
   "cell_type": "code",
   "execution_count": 44,
   "metadata": {},
   "outputs": [
    {
     "name": "stdout",
     "output_type": "stream",
     "text": [
      "No Nulls\n"
     ]
    }
   ],
   "source": [
    "countNull(df_cnotes)"
   ]
  },
  {
   "cell_type": "code",
   "execution_count": 45,
   "metadata": {},
   "outputs": [
    {
     "name": "stdout",
     "output_type": "stream",
     "text": [
      "No Nulls\n"
     ]
    }
   ],
   "source": [
    "countNull(df_fnotes)"
   ]
  },
  {
   "cell_type": "code",
   "execution_count": 46,
   "metadata": {},
   "outputs": [
    {
     "name": "stdout",
     "output_type": "stream",
     "text": [
      "No Nulls\n"
     ]
    }
   ],
   "source": [
    "countNull(df_indicator)"
   ]
  },
  {
   "cell_type": "code",
   "execution_count": 47,
   "metadata": {},
   "outputs": [
    {
     "name": "stdout",
     "output_type": "stream",
     "text": [
      "No Nulls\n"
     ]
    }
   ],
   "source": [
    "countNull(df_series)"
   ]
  },
  {
   "cell_type": "code",
   "execution_count": 48,
   "metadata": {},
   "outputs": [
    {
     "name": "stdout",
     "output_type": "stream",
     "text": [
      "No Nulls\n"
     ]
    }
   ],
   "source": [
    "countNull(df_snotes)"
   ]
  },
  {
   "cell_type": "markdown",
   "metadata": {},
   "source": [
    "### checking the nulls in detail in  the country data"
   ]
  },
  {
   "cell_type": "code",
   "execution_count": 49,
   "metadata": {},
   "outputs": [
    {
     "data": {
      "text/html": [
       "<div>\n",
       "<style scoped>\n",
       "    .dataframe tbody tr th:only-of-type {\n",
       "        vertical-align: middle;\n",
       "    }\n",
       "\n",
       "    .dataframe tbody tr th {\n",
       "        vertical-align: top;\n",
       "    }\n",
       "\n",
       "    .dataframe thead th {\n",
       "        text-align: right;\n",
       "    }\n",
       "</style>\n",
       "<table border=\"1\" class=\"dataframe\">\n",
       "  <thead>\n",
       "    <tr style=\"text-align: right;\">\n",
       "      <th></th>\n",
       "      <th>numNulls</th>\n",
       "      <th>count</th>\n",
       "    </tr>\n",
       "  </thead>\n",
       "  <tbody>\n",
       "    <tr>\n",
       "      <th>0</th>\n",
       "      <td>2</td>\n",
       "      <td>37</td>\n",
       "    </tr>\n",
       "    <tr>\n",
       "      <th>1</th>\n",
       "      <td>1</td>\n",
       "      <td>74</td>\n",
       "    </tr>\n",
       "    <tr>\n",
       "      <th>2</th>\n",
       "      <td>0</td>\n",
       "      <td>136</td>\n",
       "    </tr>\n",
       "  </tbody>\n",
       "</table>\n",
       "</div>"
      ],
      "text/plain": [
       "   numNulls  count\n",
       "0         2     37\n",
       "1         1     74\n",
       "2         0    136"
      ]
     },
     "execution_count": 49,
     "metadata": {},
     "output_type": "execute_result"
    }
   ],
   "source": [
    "df_country.withColumn('numNulls', sum(df_country[col].isNull().cast('int') for col in df_country.columns))\\\n",
    ".orderBy(F.desc(\"numNulls\")).groupBy(\"numNulls\").count().toPandas()"
   ]
  },
  {
   "cell_type": "code",
   "execution_count": 50,
   "metadata": {},
   "outputs": [
    {
     "data": {
      "text/html": [
       "<div>\n",
       "<style scoped>\n",
       "    .dataframe tbody tr th:only-of-type {\n",
       "        vertical-align: middle;\n",
       "    }\n",
       "\n",
       "    .dataframe tbody tr th {\n",
       "        vertical-align: top;\n",
       "    }\n",
       "\n",
       "    .dataframe thead th {\n",
       "        text-align: right;\n",
       "    }\n",
       "</style>\n",
       "<table border=\"1\" class=\"dataframe\">\n",
       "  <thead>\n",
       "    <tr style=\"text-align: right;\">\n",
       "      <th></th>\n",
       "      <th>CountryCode</th>\n",
       "      <th>ShortName</th>\n",
       "      <th>TableName</th>\n",
       "      <th>LongName</th>\n",
       "      <th>Alpha2Code</th>\n",
       "      <th>CurrencyUnit</th>\n",
       "      <th>Region</th>\n",
       "      <th>IncomeGroup</th>\n",
       "      <th>Wb2Code</th>\n",
       "      <th>NationalAccountsBaseYear</th>\n",
       "      <th>...</th>\n",
       "      <th>SystemOfNationalAccounts</th>\n",
       "      <th>BalanceOfPaymentsManualInUse</th>\n",
       "      <th>SystemOfTrade</th>\n",
       "      <th>GovernmentAccountingConcept</th>\n",
       "      <th>ImfDataDisseminationStandard</th>\n",
       "      <th>LatestPopulationCensus</th>\n",
       "      <th>LatestIndustrialData</th>\n",
       "      <th>LatestTradeData</th>\n",
       "      <th>LatestWaterWithdrawalData</th>\n",
       "      <th>numNulls</th>\n",
       "    </tr>\n",
       "  </thead>\n",
       "  <tbody>\n",
       "    <tr>\n",
       "      <th>0</th>\n",
       "      <td>EAS</td>\n",
       "      <td>East Asia &amp; Pacific (all income levels)</td>\n",
       "      <td>East Asia &amp; Pacific (all income levels)</td>\n",
       "      <td>East Asia &amp; Pacific (all income levels)</td>\n",
       "      <td>Z4</td>\n",
       "      <td>NaN</td>\n",
       "      <td>NaN</td>\n",
       "      <td>NaN</td>\n",
       "      <td>Z4</td>\n",
       "      <td>None</td>\n",
       "      <td>...</td>\n",
       "      <td>NaN</td>\n",
       "      <td>NaN</td>\n",
       "      <td>NaN</td>\n",
       "      <td>NaN</td>\n",
       "      <td>NaN</td>\n",
       "      <td>None</td>\n",
       "      <td>0</td>\n",
       "      <td>0</td>\n",
       "      <td>0</td>\n",
       "      <td>2</td>\n",
       "    </tr>\n",
       "    <tr>\n",
       "      <th>1</th>\n",
       "      <td>HIC</td>\n",
       "      <td>High income</td>\n",
       "      <td>High income</td>\n",
       "      <td>High income</td>\n",
       "      <td>XD</td>\n",
       "      <td>NaN</td>\n",
       "      <td>NaN</td>\n",
       "      <td>NaN</td>\n",
       "      <td>XD</td>\n",
       "      <td>None</td>\n",
       "      <td>...</td>\n",
       "      <td>NaN</td>\n",
       "      <td>NaN</td>\n",
       "      <td>NaN</td>\n",
       "      <td>NaN</td>\n",
       "      <td>NaN</td>\n",
       "      <td>None</td>\n",
       "      <td>0</td>\n",
       "      <td>0</td>\n",
       "      <td>0</td>\n",
       "      <td>2</td>\n",
       "    </tr>\n",
       "    <tr>\n",
       "      <th>2</th>\n",
       "      <td>EAP</td>\n",
       "      <td>East Asia &amp; Pacific (developing only)</td>\n",
       "      <td>East Asia &amp; Pacific</td>\n",
       "      <td>East Asia &amp; Pacific (developing only)</td>\n",
       "      <td>4E</td>\n",
       "      <td>NaN</td>\n",
       "      <td>NaN</td>\n",
       "      <td>NaN</td>\n",
       "      <td>4E</td>\n",
       "      <td>None</td>\n",
       "      <td>...</td>\n",
       "      <td>NaN</td>\n",
       "      <td>NaN</td>\n",
       "      <td>NaN</td>\n",
       "      <td>NaN</td>\n",
       "      <td>NaN</td>\n",
       "      <td>None</td>\n",
       "      <td>0</td>\n",
       "      <td>0</td>\n",
       "      <td>0</td>\n",
       "      <td>2</td>\n",
       "    </tr>\n",
       "    <tr>\n",
       "      <th>3</th>\n",
       "      <td>CEB</td>\n",
       "      <td>Central Europe and the Baltics</td>\n",
       "      <td>Central Europe and the Baltics</td>\n",
       "      <td>Central Europe and the Baltics</td>\n",
       "      <td>B8</td>\n",
       "      <td>NaN</td>\n",
       "      <td>NaN</td>\n",
       "      <td>NaN</td>\n",
       "      <td>B8</td>\n",
       "      <td>None</td>\n",
       "      <td>...</td>\n",
       "      <td>NaN</td>\n",
       "      <td>NaN</td>\n",
       "      <td>NaN</td>\n",
       "      <td>NaN</td>\n",
       "      <td>NaN</td>\n",
       "      <td>None</td>\n",
       "      <td>0</td>\n",
       "      <td>0</td>\n",
       "      <td>0</td>\n",
       "      <td>2</td>\n",
       "    </tr>\n",
       "    <tr>\n",
       "      <th>4</th>\n",
       "      <td>EMU</td>\n",
       "      <td>Euro area</td>\n",
       "      <td>Euro area</td>\n",
       "      <td>Euro area</td>\n",
       "      <td>XC</td>\n",
       "      <td>NaN</td>\n",
       "      <td>NaN</td>\n",
       "      <td>NaN</td>\n",
       "      <td>XC</td>\n",
       "      <td>None</td>\n",
       "      <td>...</td>\n",
       "      <td>NaN</td>\n",
       "      <td>NaN</td>\n",
       "      <td>NaN</td>\n",
       "      <td>NaN</td>\n",
       "      <td>NaN</td>\n",
       "      <td>None</td>\n",
       "      <td>0</td>\n",
       "      <td>0</td>\n",
       "      <td>0</td>\n",
       "      <td>2</td>\n",
       "    </tr>\n",
       "    <tr>\n",
       "      <th>5</th>\n",
       "      <td>CSS</td>\n",
       "      <td>Caribbean small states</td>\n",
       "      <td>Caribbean small states</td>\n",
       "      <td>Caribbean small states</td>\n",
       "      <td>S3</td>\n",
       "      <td>NaN</td>\n",
       "      <td>NaN</td>\n",
       "      <td>NaN</td>\n",
       "      <td>S3</td>\n",
       "      <td>None</td>\n",
       "      <td>...</td>\n",
       "      <td>NaN</td>\n",
       "      <td>NaN</td>\n",
       "      <td>NaN</td>\n",
       "      <td>NaN</td>\n",
       "      <td>NaN</td>\n",
       "      <td>None</td>\n",
       "      <td>0</td>\n",
       "      <td>0</td>\n",
       "      <td>0</td>\n",
       "      <td>2</td>\n",
       "    </tr>\n",
       "    <tr>\n",
       "      <th>6</th>\n",
       "      <td>ECS</td>\n",
       "      <td>Europe &amp; Central Asia (all income levels)</td>\n",
       "      <td>Europe &amp; Central Asia (all income levels)</td>\n",
       "      <td>Europe &amp; Central Asia (all income levels)</td>\n",
       "      <td>Z7</td>\n",
       "      <td>NaN</td>\n",
       "      <td>NaN</td>\n",
       "      <td>NaN</td>\n",
       "      <td>Z7</td>\n",
       "      <td>None</td>\n",
       "      <td>...</td>\n",
       "      <td>NaN</td>\n",
       "      <td>NaN</td>\n",
       "      <td>NaN</td>\n",
       "      <td>NaN</td>\n",
       "      <td>NaN</td>\n",
       "      <td>None</td>\n",
       "      <td>0</td>\n",
       "      <td>0</td>\n",
       "      <td>0</td>\n",
       "      <td>2</td>\n",
       "    </tr>\n",
       "    <tr>\n",
       "      <th>7</th>\n",
       "      <td>EUU</td>\n",
       "      <td>European Union</td>\n",
       "      <td>European Union</td>\n",
       "      <td>European Union</td>\n",
       "      <td>EU</td>\n",
       "      <td>NaN</td>\n",
       "      <td>NaN</td>\n",
       "      <td>NaN</td>\n",
       "      <td>EU</td>\n",
       "      <td>None</td>\n",
       "      <td>...</td>\n",
       "      <td>NaN</td>\n",
       "      <td>NaN</td>\n",
       "      <td>NaN</td>\n",
       "      <td>NaN</td>\n",
       "      <td>NaN</td>\n",
       "      <td>None</td>\n",
       "      <td>0</td>\n",
       "      <td>0</td>\n",
       "      <td>0</td>\n",
       "      <td>2</td>\n",
       "    </tr>\n",
       "    <tr>\n",
       "      <th>8</th>\n",
       "      <td>FCS</td>\n",
       "      <td>Fragile and conflict affected situations</td>\n",
       "      <td>Fragile and conflict affected situations</td>\n",
       "      <td>Fragile situations</td>\n",
       "      <td>F1</td>\n",
       "      <td>NaN</td>\n",
       "      <td>NaN</td>\n",
       "      <td>NaN</td>\n",
       "      <td>F1</td>\n",
       "      <td>None</td>\n",
       "      <td>...</td>\n",
       "      <td>NaN</td>\n",
       "      <td>NaN</td>\n",
       "      <td>NaN</td>\n",
       "      <td>NaN</td>\n",
       "      <td>NaN</td>\n",
       "      <td>None</td>\n",
       "      <td>0</td>\n",
       "      <td>0</td>\n",
       "      <td>0</td>\n",
       "      <td>2</td>\n",
       "    </tr>\n",
       "    <tr>\n",
       "      <th>9</th>\n",
       "      <td>ARB</td>\n",
       "      <td>Arab World</td>\n",
       "      <td>Arab World</td>\n",
       "      <td>Arab World</td>\n",
       "      <td>1A</td>\n",
       "      <td>NaN</td>\n",
       "      <td>NaN</td>\n",
       "      <td>NaN</td>\n",
       "      <td>1A</td>\n",
       "      <td>None</td>\n",
       "      <td>...</td>\n",
       "      <td>NaN</td>\n",
       "      <td>NaN</td>\n",
       "      <td>NaN</td>\n",
       "      <td>NaN</td>\n",
       "      <td>NaN</td>\n",
       "      <td>None</td>\n",
       "      <td>0</td>\n",
       "      <td>0</td>\n",
       "      <td>0</td>\n",
       "      <td>2</td>\n",
       "    </tr>\n",
       "  </tbody>\n",
       "</table>\n",
       "<p>10 rows × 21 columns</p>\n",
       "</div>"
      ],
      "text/plain": [
       "  CountryCode                                  ShortName  \\\n",
       "0         EAS    East Asia & Pacific (all income levels)   \n",
       "1         HIC                                High income   \n",
       "2         EAP      East Asia & Pacific (developing only)   \n",
       "3         CEB             Central Europe and the Baltics   \n",
       "4         EMU                                  Euro area   \n",
       "5         CSS                     Caribbean small states   \n",
       "6         ECS  Europe & Central Asia (all income levels)   \n",
       "7         EUU                             European Union   \n",
       "8         FCS   Fragile and conflict affected situations   \n",
       "9         ARB                                 Arab World   \n",
       "\n",
       "                                   TableName  \\\n",
       "0    East Asia & Pacific (all income levels)   \n",
       "1                                High income   \n",
       "2                        East Asia & Pacific   \n",
       "3             Central Europe and the Baltics   \n",
       "4                                  Euro area   \n",
       "5                     Caribbean small states   \n",
       "6  Europe & Central Asia (all income levels)   \n",
       "7                             European Union   \n",
       "8   Fragile and conflict affected situations   \n",
       "9                                 Arab World   \n",
       "\n",
       "                                    LongName Alpha2Code CurrencyUnit Region  \\\n",
       "0    East Asia & Pacific (all income levels)         Z4          NaN    NaN   \n",
       "1                                High income         XD          NaN    NaN   \n",
       "2      East Asia & Pacific (developing only)         4E          NaN    NaN   \n",
       "3             Central Europe and the Baltics         B8          NaN    NaN   \n",
       "4                                  Euro area         XC          NaN    NaN   \n",
       "5                     Caribbean small states         S3          NaN    NaN   \n",
       "6  Europe & Central Asia (all income levels)         Z7          NaN    NaN   \n",
       "7                             European Union         EU          NaN    NaN   \n",
       "8                         Fragile situations         F1          NaN    NaN   \n",
       "9                                 Arab World         1A          NaN    NaN   \n",
       "\n",
       "  IncomeGroup Wb2Code NationalAccountsBaseYear    ...     \\\n",
       "0         NaN      Z4                     None    ...      \n",
       "1         NaN      XD                     None    ...      \n",
       "2         NaN      4E                     None    ...      \n",
       "3         NaN      B8                     None    ...      \n",
       "4         NaN      XC                     None    ...      \n",
       "5         NaN      S3                     None    ...      \n",
       "6         NaN      Z7                     None    ...      \n",
       "7         NaN      EU                     None    ...      \n",
       "8         NaN      F1                     None    ...      \n",
       "9         NaN      1A                     None    ...      \n",
       "\n",
       "  SystemOfNationalAccounts BalanceOfPaymentsManualInUse SystemOfTrade  \\\n",
       "0                      NaN                          NaN           NaN   \n",
       "1                      NaN                          NaN           NaN   \n",
       "2                      NaN                          NaN           NaN   \n",
       "3                      NaN                          NaN           NaN   \n",
       "4                      NaN                          NaN           NaN   \n",
       "5                      NaN                          NaN           NaN   \n",
       "6                      NaN                          NaN           NaN   \n",
       "7                      NaN                          NaN           NaN   \n",
       "8                      NaN                          NaN           NaN   \n",
       "9                      NaN                          NaN           NaN   \n",
       "\n",
       "  GovernmentAccountingConcept ImfDataDisseminationStandard  \\\n",
       "0                         NaN                          NaN   \n",
       "1                         NaN                          NaN   \n",
       "2                         NaN                          NaN   \n",
       "3                         NaN                          NaN   \n",
       "4                         NaN                          NaN   \n",
       "5                         NaN                          NaN   \n",
       "6                         NaN                          NaN   \n",
       "7                         NaN                          NaN   \n",
       "8                         NaN                          NaN   \n",
       "9                         NaN                          NaN   \n",
       "\n",
       "  LatestPopulationCensus LatestIndustrialData  LatestTradeData  \\\n",
       "0                   None                    0                0   \n",
       "1                   None                    0                0   \n",
       "2                   None                    0                0   \n",
       "3                   None                    0                0   \n",
       "4                   None                    0                0   \n",
       "5                   None                    0                0   \n",
       "6                   None                    0                0   \n",
       "7                   None                    0                0   \n",
       "8                   None                    0                0   \n",
       "9                   None                    0                0   \n",
       "\n",
       "   LatestWaterWithdrawalData  numNulls  \n",
       "0                          0         2  \n",
       "1                          0         2  \n",
       "2                          0         2  \n",
       "3                          0         2  \n",
       "4                          0         2  \n",
       "5                          0         2  \n",
       "6                          0         2  \n",
       "7                          0         2  \n",
       "8                          0         2  \n",
       "9                          0         2  \n",
       "\n",
       "[10 rows x 21 columns]"
      ]
     },
     "execution_count": 50,
     "metadata": {},
     "output_type": "execute_result"
    }
   ],
   "source": [
    "df_country.withColumn('numNulls', sum(df_country[col].isNull().cast('int') for col in df_country.columns)).orderBy(F.desc(\"numNulls\")).limit(10).toPandas()"
   ]
  },
  {
   "cell_type": "code",
   "execution_count": 51,
   "metadata": {},
   "outputs": [],
   "source": [
    "df_country=df_country.filter(df_country.CurrencyUnit.isNotNull())"
   ]
  },
  {
   "cell_type": "code",
   "execution_count": 52,
   "metadata": {},
   "outputs": [],
   "source": [
    "df_country=df_country.filter(df_country.CountryCode.isNotNull())"
   ]
  },
  {
   "cell_type": "code",
   "execution_count": 53,
   "metadata": {},
   "outputs": [
    {
     "data": {
      "text/plain": [
       "247"
      ]
     },
     "execution_count": 53,
     "metadata": {},
     "output_type": "execute_result"
    }
   ],
   "source": [
    "df_country.count()"
   ]
  },
  {
   "cell_type": "code",
   "execution_count": 54,
   "metadata": {},
   "outputs": [
    {
     "name": "stdout",
     "output_type": "stream",
     "text": [
      "root\n",
      " |-- CountryCode: string (nullable = true)\n",
      " |-- ShortName: string (nullable = true)\n",
      " |-- TableName: string (nullable = true)\n",
      " |-- LongName: string (nullable = true)\n",
      " |-- Alpha2Code: string (nullable = true)\n",
      " |-- CurrencyUnit: string (nullable = true)\n",
      " |-- Region: string (nullable = true)\n",
      " |-- IncomeGroup: string (nullable = true)\n",
      " |-- Wb2Code: string (nullable = true)\n",
      " |-- NationalAccountsBaseYear: integer (nullable = true)\n",
      " |-- SnaPriceValuation: string (nullable = true)\n",
      " |-- SystemOfNationalAccounts: string (nullable = true)\n",
      " |-- BalanceOfPaymentsManualInUse: string (nullable = true)\n",
      " |-- SystemOfTrade: string (nullable = true)\n",
      " |-- GovernmentAccountingConcept: string (nullable = true)\n",
      " |-- ImfDataDisseminationStandard: string (nullable = true)\n",
      " |-- LatestPopulationCensus: integer (nullable = true)\n",
      " |-- LatestIndustrialData: integer (nullable = true)\n",
      " |-- LatestTradeData: integer (nullable = true)\n",
      " |-- LatestWaterWithdrawalData: integer (nullable = true)\n",
      "\n"
     ]
    }
   ],
   "source": [
    "df_country.printSchema()"
   ]
  },
  {
   "cell_type": "markdown",
   "metadata": {},
   "source": [
    "### Building the database\n",
    "1. creating tables \n",
    "2. showing the example to insert it "
   ]
  },
  {
   "cell_type": "code",
   "execution_count": 55,
   "metadata": {},
   "outputs": [],
   "source": [
    "conn = psycopg2.connect(\"host=127.0.0.1 dbname=studentdb user=student password=student\")\n",
    "conn.set_session(autocommit=True)\n",
    "cur = conn.cursor()\n",
    "cur.execute(\"DROP DATABASE IF EXISTS capstone_proj\")\n",
    "cur.execute(\"CREATE DATABASE capstone_proj WITH ENCODING 'utf8' TEMPLATE template0\")\n",
    "conn.close()\n",
    "cur.close()"
   ]
  },
  {
   "cell_type": "code",
   "execution_count": 56,
   "metadata": {},
   "outputs": [],
   "source": [
    "conn = psycopg2.connect(\"host=127.0.0.1 dbname=capstone_proj user=student password=student\")\n",
    "conn.set_session(autocommit=True)\n",
    "cur = conn.cursor()"
   ]
  },
  {
   "cell_type": "code",
   "execution_count": 57,
   "metadata": {},
   "outputs": [
    {
     "data": {
      "text/html": [
       "<div>\n",
       "<style scoped>\n",
       "    .dataframe tbody tr th:only-of-type {\n",
       "        vertical-align: middle;\n",
       "    }\n",
       "\n",
       "    .dataframe tbody tr th {\n",
       "        vertical-align: top;\n",
       "    }\n",
       "\n",
       "    .dataframe thead th {\n",
       "        text-align: right;\n",
       "    }\n",
       "</style>\n",
       "<table border=\"1\" class=\"dataframe\">\n",
       "  <thead>\n",
       "    <tr style=\"text-align: right;\">\n",
       "      <th></th>\n",
       "      <th>column_name</th>\n",
       "      <th>data_type</th>\n",
       "      <th>is_nullable</th>\n",
       "    </tr>\n",
       "  </thead>\n",
       "  <tbody>\n",
       "    <tr>\n",
       "      <th>0</th>\n",
       "      <td>country_code</td>\n",
       "      <td>character varying</td>\n",
       "      <td>NO</td>\n",
       "    </tr>\n",
       "    <tr>\n",
       "      <th>1</th>\n",
       "      <td>short_name</td>\n",
       "      <td>character varying</td>\n",
       "      <td>NO</td>\n",
       "    </tr>\n",
       "    <tr>\n",
       "      <th>2</th>\n",
       "      <td>medium_name</td>\n",
       "      <td>character varying</td>\n",
       "      <td>NO</td>\n",
       "    </tr>\n",
       "    <tr>\n",
       "      <th>3</th>\n",
       "      <td>long_name</td>\n",
       "      <td>character varying</td>\n",
       "      <td>YES</td>\n",
       "    </tr>\n",
       "    <tr>\n",
       "      <th>4</th>\n",
       "      <td>alpha2_code</td>\n",
       "      <td>character varying</td>\n",
       "      <td>YES</td>\n",
       "    </tr>\n",
       "    <tr>\n",
       "      <th>5</th>\n",
       "      <td>currency_unit</td>\n",
       "      <td>character varying</td>\n",
       "      <td>NO</td>\n",
       "    </tr>\n",
       "    <tr>\n",
       "      <th>6</th>\n",
       "      <td>region</td>\n",
       "      <td>character varying</td>\n",
       "      <td>YES</td>\n",
       "    </tr>\n",
       "    <tr>\n",
       "      <th>7</th>\n",
       "      <td>income_group</td>\n",
       "      <td>character varying</td>\n",
       "      <td>YES</td>\n",
       "    </tr>\n",
       "    <tr>\n",
       "      <th>8</th>\n",
       "      <td>wb2_code</td>\n",
       "      <td>character varying</td>\n",
       "      <td>NO</td>\n",
       "    </tr>\n",
       "    <tr>\n",
       "      <th>9</th>\n",
       "      <td>national_account_base</td>\n",
       "      <td>integer</td>\n",
       "      <td>YES</td>\n",
       "    </tr>\n",
       "    <tr>\n",
       "      <th>10</th>\n",
       "      <td>sna_price_valuation</td>\n",
       "      <td>character varying</td>\n",
       "      <td>YES</td>\n",
       "    </tr>\n",
       "    <tr>\n",
       "      <th>11</th>\n",
       "      <td>system_national_accounts</td>\n",
       "      <td>character varying</td>\n",
       "      <td>YES</td>\n",
       "    </tr>\n",
       "    <tr>\n",
       "      <th>12</th>\n",
       "      <td>balance_pay_manual</td>\n",
       "      <td>character varying</td>\n",
       "      <td>YES</td>\n",
       "    </tr>\n",
       "    <tr>\n",
       "      <th>13</th>\n",
       "      <td>system_trade</td>\n",
       "      <td>character varying</td>\n",
       "      <td>YES</td>\n",
       "    </tr>\n",
       "    <tr>\n",
       "      <th>14</th>\n",
       "      <td>gov_account_concept</td>\n",
       "      <td>character varying</td>\n",
       "      <td>YES</td>\n",
       "    </tr>\n",
       "    <tr>\n",
       "      <th>15</th>\n",
       "      <td>imf_data</td>\n",
       "      <td>character varying</td>\n",
       "      <td>YES</td>\n",
       "    </tr>\n",
       "    <tr>\n",
       "      <th>16</th>\n",
       "      <td>latest_pop_census</td>\n",
       "      <td>integer</td>\n",
       "      <td>YES</td>\n",
       "    </tr>\n",
       "    <tr>\n",
       "      <th>17</th>\n",
       "      <td>latest_industrial_data</td>\n",
       "      <td>integer</td>\n",
       "      <td>YES</td>\n",
       "    </tr>\n",
       "    <tr>\n",
       "      <th>18</th>\n",
       "      <td>latest_trade_data</td>\n",
       "      <td>integer</td>\n",
       "      <td>YES</td>\n",
       "    </tr>\n",
       "    <tr>\n",
       "      <th>19</th>\n",
       "      <td>latest_water_with_data</td>\n",
       "      <td>integer</td>\n",
       "      <td>YES</td>\n",
       "    </tr>\n",
       "  </tbody>\n",
       "</table>\n",
       "</div>"
      ],
      "text/plain": [
       "                 column_name          data_type is_nullable\n",
       "0               country_code  character varying          NO\n",
       "1                 short_name  character varying          NO\n",
       "2                medium_name  character varying          NO\n",
       "3                  long_name  character varying         YES\n",
       "4                alpha2_code  character varying         YES\n",
       "5              currency_unit  character varying          NO\n",
       "6                     region  character varying         YES\n",
       "7               income_group  character varying         YES\n",
       "8                   wb2_code  character varying          NO\n",
       "9      national_account_base            integer         YES\n",
       "10       sna_price_valuation  character varying         YES\n",
       "11  system_national_accounts  character varying         YES\n",
       "12        balance_pay_manual  character varying         YES\n",
       "13              system_trade  character varying         YES\n",
       "14       gov_account_concept  character varying         YES\n",
       "15                  imf_data  character varying         YES\n",
       "16         latest_pop_census            integer         YES\n",
       "17    latest_industrial_data            integer         YES\n",
       "18         latest_trade_data            integer         YES\n",
       "19    latest_water_with_data            integer         YES"
      ]
     },
     "execution_count": 57,
     "metadata": {},
     "output_type": "execute_result"
    }
   ],
   "source": [
    "cur.execute(sql.country_create_table)\n",
    "cur.execute(sql.getStruct,(\"country\",))\n",
    "column_names = [desc[0] for desc in cur.description]\n",
    "pd.DataFrame(cur.fetchall(),columns=column_names)"
   ]
  },
  {
   "cell_type": "code",
   "execution_count": 58,
   "metadata": {},
   "outputs": [
    {
     "data": {
      "text/html": [
       "<div>\n",
       "<style scoped>\n",
       "    .dataframe tbody tr th:only-of-type {\n",
       "        vertical-align: middle;\n",
       "    }\n",
       "\n",
       "    .dataframe tbody tr th {\n",
       "        vertical-align: top;\n",
       "    }\n",
       "\n",
       "    .dataframe thead th {\n",
       "        text-align: right;\n",
       "    }\n",
       "</style>\n",
       "<table border=\"1\" class=\"dataframe\">\n",
       "  <thead>\n",
       "    <tr style=\"text-align: right;\">\n",
       "      <th></th>\n",
       "      <th>column_name</th>\n",
       "      <th>data_type</th>\n",
       "      <th>is_nullable</th>\n",
       "    </tr>\n",
       "  </thead>\n",
       "  <tbody>\n",
       "    <tr>\n",
       "      <th>0</th>\n",
       "      <td>country_code</td>\n",
       "      <td>character varying</td>\n",
       "      <td>NO</td>\n",
       "    </tr>\n",
       "    <tr>\n",
       "      <th>1</th>\n",
       "      <td>series_code</td>\n",
       "      <td>character varying</td>\n",
       "      <td>NO</td>\n",
       "    </tr>\n",
       "    <tr>\n",
       "      <th>2</th>\n",
       "      <td>description</td>\n",
       "      <td>character varying</td>\n",
       "      <td>YES</td>\n",
       "    </tr>\n",
       "  </tbody>\n",
       "</table>\n",
       "</div>"
      ],
      "text/plain": [
       "    column_name          data_type is_nullable\n",
       "0  country_code  character varying          NO\n",
       "1   series_code  character varying          NO\n",
       "2   description  character varying         YES"
      ]
     },
     "execution_count": 58,
     "metadata": {},
     "output_type": "execute_result"
    }
   ],
   "source": [
    "cur.execute(sql.cnotes_create_table)\n",
    "cur.execute(sql.getStruct,(\"country_notes\",))\n",
    "column_names = [desc[0] for desc in cur.description]\n",
    "pd.DataFrame(cur.fetchall(),columns=column_names)"
   ]
  },
  {
   "cell_type": "code",
   "execution_count": 59,
   "metadata": {},
   "outputs": [
    {
     "data": {
      "text/html": [
       "<div>\n",
       "<style scoped>\n",
       "    .dataframe tbody tr th:only-of-type {\n",
       "        vertical-align: middle;\n",
       "    }\n",
       "\n",
       "    .dataframe tbody tr th {\n",
       "        vertical-align: top;\n",
       "    }\n",
       "\n",
       "    .dataframe thead th {\n",
       "        text-align: right;\n",
       "    }\n",
       "</style>\n",
       "<table border=\"1\" class=\"dataframe\">\n",
       "  <thead>\n",
       "    <tr style=\"text-align: right;\">\n",
       "      <th></th>\n",
       "      <th>column_name</th>\n",
       "      <th>data_type</th>\n",
       "      <th>is_nullable</th>\n",
       "    </tr>\n",
       "  </thead>\n",
       "  <tbody>\n",
       "    <tr>\n",
       "      <th>0</th>\n",
       "      <td>country_code</td>\n",
       "      <td>character varying</td>\n",
       "      <td>NO</td>\n",
       "    </tr>\n",
       "    <tr>\n",
       "      <th>1</th>\n",
       "      <td>series_code</td>\n",
       "      <td>character varying</td>\n",
       "      <td>NO</td>\n",
       "    </tr>\n",
       "    <tr>\n",
       "      <th>2</th>\n",
       "      <td>year</td>\n",
       "      <td>character varying</td>\n",
       "      <td>NO</td>\n",
       "    </tr>\n",
       "    <tr>\n",
       "      <th>3</th>\n",
       "      <td>description</td>\n",
       "      <td>character varying</td>\n",
       "      <td>YES</td>\n",
       "    </tr>\n",
       "  </tbody>\n",
       "</table>\n",
       "</div>"
      ],
      "text/plain": [
       "    column_name          data_type is_nullable\n",
       "0  country_code  character varying          NO\n",
       "1   series_code  character varying          NO\n",
       "2          year  character varying          NO\n",
       "3   description  character varying         YES"
      ]
     },
     "execution_count": 59,
     "metadata": {},
     "output_type": "execute_result"
    }
   ],
   "source": [
    "cur.execute(sql.fnotes_create_table)\n",
    "cur.execute(sql.getStruct,(\"foot_notes\",))\n",
    "column_names = [desc[0] for desc in cur.description]\n",
    "pd.DataFrame(cur.fetchall(),columns=column_names)"
   ]
  },
  {
   "cell_type": "code",
   "execution_count": 60,
   "metadata": {},
   "outputs": [
    {
     "data": {
      "text/html": [
       "<div>\n",
       "<style scoped>\n",
       "    .dataframe tbody tr th:only-of-type {\n",
       "        vertical-align: middle;\n",
       "    }\n",
       "\n",
       "    .dataframe tbody tr th {\n",
       "        vertical-align: top;\n",
       "    }\n",
       "\n",
       "    .dataframe thead th {\n",
       "        text-align: right;\n",
       "    }\n",
       "</style>\n",
       "<table border=\"1\" class=\"dataframe\">\n",
       "  <thead>\n",
       "    <tr style=\"text-align: right;\">\n",
       "      <th></th>\n",
       "      <th>column_name</th>\n",
       "      <th>data_type</th>\n",
       "      <th>is_nullable</th>\n",
       "    </tr>\n",
       "  </thead>\n",
       "  <tbody>\n",
       "    <tr>\n",
       "      <th>0</th>\n",
       "      <td>country_name</td>\n",
       "      <td>character varying</td>\n",
       "      <td>NO</td>\n",
       "    </tr>\n",
       "    <tr>\n",
       "      <th>1</th>\n",
       "      <td>country_code</td>\n",
       "      <td>character varying</td>\n",
       "      <td>NO</td>\n",
       "    </tr>\n",
       "    <tr>\n",
       "      <th>2</th>\n",
       "      <td>indicator_name</td>\n",
       "      <td>character varying</td>\n",
       "      <td>NO</td>\n",
       "    </tr>\n",
       "    <tr>\n",
       "      <th>3</th>\n",
       "      <td>indicator_code</td>\n",
       "      <td>character varying</td>\n",
       "      <td>NO</td>\n",
       "    </tr>\n",
       "    <tr>\n",
       "      <th>4</th>\n",
       "      <td>year</td>\n",
       "      <td>integer</td>\n",
       "      <td>YES</td>\n",
       "    </tr>\n",
       "    <tr>\n",
       "      <th>5</th>\n",
       "      <td>value</td>\n",
       "      <td>double precision</td>\n",
       "      <td>YES</td>\n",
       "    </tr>\n",
       "  </tbody>\n",
       "</table>\n",
       "</div>"
      ],
      "text/plain": [
       "      column_name          data_type is_nullable\n",
       "0    country_name  character varying          NO\n",
       "1    country_code  character varying          NO\n",
       "2  indicator_name  character varying          NO\n",
       "3  indicator_code  character varying          NO\n",
       "4            year            integer         YES\n",
       "5           value   double precision         YES"
      ]
     },
     "execution_count": 60,
     "metadata": {},
     "output_type": "execute_result"
    }
   ],
   "source": [
    "cur.execute(sql.indicator_create_table)\n",
    "cur.execute(sql.getStruct,(\"indicator\",))\n",
    "column_names = [desc[0] for desc in cur.description]\n",
    "pd.DataFrame(cur.fetchall(),columns=column_names)"
   ]
  },
  {
   "cell_type": "code",
   "execution_count": 61,
   "metadata": {},
   "outputs": [
    {
     "data": {
      "text/html": [
       "<div>\n",
       "<style scoped>\n",
       "    .dataframe tbody tr th:only-of-type {\n",
       "        vertical-align: middle;\n",
       "    }\n",
       "\n",
       "    .dataframe tbody tr th {\n",
       "        vertical-align: top;\n",
       "    }\n",
       "\n",
       "    .dataframe thead th {\n",
       "        text-align: right;\n",
       "    }\n",
       "</style>\n",
       "<table border=\"1\" class=\"dataframe\">\n",
       "  <thead>\n",
       "    <tr style=\"text-align: right;\">\n",
       "      <th></th>\n",
       "      <th>column_name</th>\n",
       "      <th>data_type</th>\n",
       "      <th>is_nullable</th>\n",
       "    </tr>\n",
       "  </thead>\n",
       "  <tbody>\n",
       "    <tr>\n",
       "      <th>0</th>\n",
       "      <td>series_code</td>\n",
       "      <td>character varying</td>\n",
       "      <td>NO</td>\n",
       "    </tr>\n",
       "    <tr>\n",
       "      <th>1</th>\n",
       "      <td>topic</td>\n",
       "      <td>character varying</td>\n",
       "      <td>YES</td>\n",
       "    </tr>\n",
       "    <tr>\n",
       "      <th>2</th>\n",
       "      <td>indicator_name</td>\n",
       "      <td>character varying</td>\n",
       "      <td>NO</td>\n",
       "    </tr>\n",
       "    <tr>\n",
       "      <th>3</th>\n",
       "      <td>long_definition</td>\n",
       "      <td>character varying</td>\n",
       "      <td>YES</td>\n",
       "    </tr>\n",
       "    <tr>\n",
       "      <th>4</th>\n",
       "      <td>periodicity</td>\n",
       "      <td>character varying</td>\n",
       "      <td>YES</td>\n",
       "    </tr>\n",
       "    <tr>\n",
       "      <th>5</th>\n",
       "      <td>source</td>\n",
       "      <td>character varying</td>\n",
       "      <td>YES</td>\n",
       "    </tr>\n",
       "    <tr>\n",
       "      <th>6</th>\n",
       "      <td>license_type</td>\n",
       "      <td>character varying</td>\n",
       "      <td>YES</td>\n",
       "    </tr>\n",
       "  </tbody>\n",
       "</table>\n",
       "</div>"
      ],
      "text/plain": [
       "       column_name          data_type is_nullable\n",
       "0      series_code  character varying          NO\n",
       "1            topic  character varying         YES\n",
       "2   indicator_name  character varying          NO\n",
       "3  long_definition  character varying         YES\n",
       "4      periodicity  character varying         YES\n",
       "5           source  character varying         YES\n",
       "6     license_type  character varying         YES"
      ]
     },
     "execution_count": 61,
     "metadata": {},
     "output_type": "execute_result"
    }
   ],
   "source": [
    "cur.execute(sql.series_create_table)\n",
    "cur.execute(sql.getStruct,(\"series\",))\n",
    "column_names = [desc[0] for desc in cur.description]\n",
    "pd.DataFrame(cur.fetchall(),columns=column_names)"
   ]
  },
  {
   "cell_type": "code",
   "execution_count": 62,
   "metadata": {},
   "outputs": [
    {
     "data": {
      "text/html": [
       "<div>\n",
       "<style scoped>\n",
       "    .dataframe tbody tr th:only-of-type {\n",
       "        vertical-align: middle;\n",
       "    }\n",
       "\n",
       "    .dataframe tbody tr th {\n",
       "        vertical-align: top;\n",
       "    }\n",
       "\n",
       "    .dataframe thead th {\n",
       "        text-align: right;\n",
       "    }\n",
       "</style>\n",
       "<table border=\"1\" class=\"dataframe\">\n",
       "  <thead>\n",
       "    <tr style=\"text-align: right;\">\n",
       "      <th></th>\n",
       "      <th>column_name</th>\n",
       "      <th>data_type</th>\n",
       "      <th>is_nullable</th>\n",
       "    </tr>\n",
       "  </thead>\n",
       "  <tbody>\n",
       "    <tr>\n",
       "      <th>0</th>\n",
       "      <td>series_code</td>\n",
       "      <td>character varying</td>\n",
       "      <td>NO</td>\n",
       "    </tr>\n",
       "    <tr>\n",
       "      <th>1</th>\n",
       "      <td>year</td>\n",
       "      <td>character varying</td>\n",
       "      <td>NO</td>\n",
       "    </tr>\n",
       "    <tr>\n",
       "      <th>2</th>\n",
       "      <td>description</td>\n",
       "      <td>character varying</td>\n",
       "      <td>YES</td>\n",
       "    </tr>\n",
       "  </tbody>\n",
       "</table>\n",
       "</div>"
      ],
      "text/plain": [
       "   column_name          data_type is_nullable\n",
       "0  series_code  character varying          NO\n",
       "1         year  character varying          NO\n",
       "2  description  character varying         YES"
      ]
     },
     "execution_count": 62,
     "metadata": {},
     "output_type": "execute_result"
    }
   ],
   "source": [
    "cur.execute(sql.snotes_create_table)\n",
    "cur.execute(sql.getStruct,(\"series_notes\",))\n",
    "column_names = [desc[0] for desc in cur.description]\n",
    "pd.DataFrame(cur.fetchall(),columns=column_names)"
   ]
  },
  {
   "cell_type": "code",
   "execution_count": 63,
   "metadata": {},
   "outputs": [],
   "source": [
    "conn.close()\n",
    "cur.close()"
   ]
  },
  {
   "cell_type": "code",
   "execution_count": 69,
   "metadata": {},
   "outputs": [],
   "source": [
    "conn = psycopg2.connect(\"host=127.0.0.1 dbname=capstone_proj user=student password=student\")\n",
    "conn.set_session(autocommit=True)\n",
    "cur = conn.cursor()"
   ]
  },
  {
   "cell_type": "code",
   "execution_count": 73,
   "metadata": {},
   "outputs": [],
   "source": [
    "# for example inserting only series_note data to the sql\n",
    "cols = \",\".join([str(i) for i in df_snotes.columns])"
   ]
  },
  {
   "cell_type": "code",
   "execution_count": 78,
   "metadata": {},
   "outputs": [],
   "source": [
    "for i,row in df_snotes.toPandas().iterrows():\n",
    "    sql = \"INSERT INTO series_notes (series_code,year,description) VALUES (\" + \"%s,\"*(len(row)-1) + \"%s)\"\n",
    "    cur.execute(sql, tuple(row))"
   ]
  },
  {
   "cell_type": "code",
   "execution_count": 85,
   "metadata": {},
   "outputs": [
    {
     "name": "stdout",
     "output_type": "stream",
     "text": [
      "('SP.ADO.TFRT', 'YR1960', 'Interpolated using data for 1957 and 1962.')\n",
      "('SP.DYN.AMRT.FE', 'YR1960', 'Interpolated using data for 1957 and 1962, if the data source is United Nations World Population Prospects.')\n",
      "('SP.DYN.AMRT.MA', 'YR1960', 'Interpolated using data for 1957 and 1962, if the data source is United Nations World Population Prospects.')\n",
      "('SP.DYN.TO65.FE.ZS', 'YR1960', 'Interpolated using data for 1957 and 1962.')\n",
      "('SP.DYN.TO65.MA.ZS', 'YR1960', 'Interpolated using data for 1957 and 1962.')\n"
     ]
    }
   ],
   "source": [
    "\n",
    "try: \n",
    "    cur.execute(\"SELECT * FROM series_notes LIMIT 5;\")\n",
    "    \n",
    "    \n",
    "except psycopg2.Error as e: \n",
    "    print(\"Error: select *\")\n",
    "    print (e)\n",
    "\n",
    "row = cur.fetchone()\n",
    "while row:\n",
    "   print(row)\n",
    "   row = cur.fetchone()\n"
   ]
  },
  {
   "cell_type": "markdown",
   "metadata": {},
   "source": [
    "### Step 3: Showing above defined the Data Mode"
   ]
  },
  {
   "cell_type": "markdown",
   "metadata": {},
   "source": [
    "##### Conceptual Data Model "
   ]
  },
  {
   "cell_type": "markdown",
   "metadata": {},
   "source": [
    "We have total of six tables\n",
    "- *Country*_\n",
    "       country_code VARCHAR NOT NULL PRIMARY KEY,\n",
    "       short_name VARCHAR NOT NULL,\n",
    "       medium_name VARCHAR NOT NULL,\n",
    "       long_name VARCHAR,\n",
    "       alpha2_code VARCHAR,\n",
    "       currency_unit VARCHAR NOT NULL,\n",
    "       region VARCHAR,\n",
    "       income_group VARCHAR,\n",
    "       wb2_code VARCHAR NOT NULL,\n",
    "       national_account_Base INT,\n",
    "       Sna_price_valuation VARCHAR,\n",
    "       system_national_accounts VARCHAR,\n",
    "       balance_pay_manual VARCHAR,\n",
    "       system_trade VARCHAR,\n",
    "       gov_account_concept VARCHAR,\n",
    "       imf_data VARCHAR,\n",
    "       latest_pop_census INT,\n",
    "       latest_industrial_data INT,\n",
    "       latest_trade_data INT,\n",
    "       latest_water_with_Data INT\n",
    "\n",
    "- *CountryNotes*_ \n",
    "       country_code VARCHAR NOT NULL,\n",
    "       series_code VARCHAR NOT NULL,\n",
    "       description VARCHAR,\n",
    "       PRIMARY KEY (country_code,series_code)\n",
    "       \n",
    "Dimension table        \n",
    "- *Footnotes*_\n",
    "       country_code VARCHAR NOT NULL,\n",
    "       series_code VARCHAR NOT NULL,\n",
    "       year VARCHAR NOT NULL,\n",
    "       description VARCHAR,\n",
    "       PRIMARY KEY (country_code,year)\n",
    "\n",
    "The fact table contain the indicators\n",
    "- *Indicators*_\n",
    "       country_name  VARCHAR NOT NULL,\n",
    "       country_code VARCHAR NOT NULL,\n",
    "       indicator_name VARCHAR NOT NULL,\n",
    "       indicator_code VARCHAR NOT NULL,\n",
    "       year INT,\n",
    "       value FLOAT,\n",
    "       PRIMARY KEY (indicator_code,country_code)\n",
    "       \n",
    "\n",
    "\n",
    "The fact table Series join the two table Footnotes and seriesnotes with series_code \n",
    "unique_id \n",
    "- *Series*_\n",
    "       series_code VARCHAR NOT NULL PRIMARY KEY,\n",
    "       topic VARCHAR,\n",
    "       indicator_name VARCHAR NOT NULL\n",
    "       long_definition VARCHAR,\n",
    "       periodicity VARCHAR,\n",
    "       source VARCHAR,\n",
    "       license_type VARCHAR\n",
    "\n",
    "Dimension table series_notes \n",
    "- *SeriesNotes*_\n",
    "       series_code VARCHAR NOT NULL,\n",
    "       year VARCHAR NOT NULL,\n",
    "       description VARCHAR,\n",
    "       PRIMARY KEY (year,series_code)\n",
    "       \n",
    "\n",
    "\n",
    "I didn't split them up coz these data are connected based on the unique and match the columns present in the data. There is a lot of information in each table but at most point they are about very different specific topics in each column. "
   ]
  },
  {
   "cell_type": "markdown",
   "metadata": {},
   "source": [
    "##### Mapping Out Data Pipelines"
   ]
  },
  {
   "cell_type": "markdown",
   "metadata": {},
   "source": [
    "1. Cleaning already done above for all the tables\n",
    "\n",
    "2. Create tables that are mention above"
   ]
  },
  {
   "cell_type": "markdown",
   "metadata": {},
   "source": [
    "### Step 4: Run Pipelines to Model the Data¶\n"
   ]
  },
  {
   "cell_type": "code",
   "execution_count": 1,
   "metadata": {},
   "outputs": [],
   "source": [
    "# here below data is parquet localy can be done to s3 bucket \n",
    "# change output_path to \"s3a://bucket-name/folder\""
   ]
  },
  {
   "cell_type": "code",
   "execution_count": 89,
   "metadata": {},
   "outputs": [],
   "source": [
    "output_path=\"result/\""
   ]
  },
  {
   "cell_type": "code",
   "execution_count": 90,
   "metadata": {},
   "outputs": [],
   "source": [
    "df_country.write.mode(\"append\").partitionBy(\"CountryCode\").parquet(os.path.join(output_path,'country/country.parquet'),'overwrite')"
   ]
  },
  {
   "cell_type": "code",
   "execution_count": 91,
   "metadata": {},
   "outputs": [],
   "source": [
    "df_cnotes.write.mode(\"append\").partitionBy(\"CountryCode\",\"SeriesCode\").parquet(os.path.join(output_path,'country_notes/country_notes.parquet'),'overwrite')"
   ]
  },
  {
   "cell_type": "code",
   "execution_count": 94,
   "metadata": {},
   "outputs": [],
   "source": [
    "df_fnotes.write.mode(\"append\").partitionBy(\"CountryCode\",\"Year\").parquet(os.path.join(output_path,'foot_notes/foot_notes.parquet'),'overwrite')"
   ]
  },
  {
   "cell_type": "code",
   "execution_count": null,
   "metadata": {},
   "outputs": [],
   "source": [
    "df_indicator.write.mode(\"append\").partitionBy(\"IndicatorCode\",\"CountryCode\").parquet(os.path.join(output_path,'indicator/indicator.parquet'),'overwrite')"
   ]
  },
  {
   "cell_type": "code",
   "execution_count": null,
   "metadata": {},
   "outputs": [],
   "source": [
    "df_series.write.mode(\"append\").partitionBy(\"SeriesCode\").parquet(os.path.join(output_path,'series/series.parquet'),'overwrite')"
   ]
  },
  {
   "cell_type": "markdown",
   "metadata": {},
   "source": [
    "#### 4.2 Data Quality Checks\n",
    "Explain the data quality checks you'll perform to ensure the pipeline ran as expected. These could include:"
   ]
  },
  {
   "cell_type": "code",
   "execution_count": 98,
   "metadata": {},
   "outputs": [
    {
     "name": "stdout",
     "output_type": "stream",
     "text": [
      "Data quality check passed for country table with 247 records\n",
      "Data quality check passed for country_notes table with 4857 records\n",
      "Data quality check passed for foot_notes table with 5000 records\n",
      "Data quality check passed for indicator table with 5000 records\n",
      "Data quality check passed for series table with 1345 records\n",
      "Data quality check passed for series notes table with 369 records\n"
     ]
    },
    {
     "data": {
      "text/plain": [
       "0"
      ]
     },
     "execution_count": 98,
     "metadata": {},
     "output_type": "execute_result"
    }
   ],
   "source": [
    "def quality_check(df, description):\n",
    "    '''\n",
    "    Arguments\n",
    "    df: Spark dataframe, description of Spark datafram\n",
    "    \n",
    "    Return\n",
    "    Print outcome of data quality check\n",
    "    \n",
    "    '''\n",
    "    \n",
    "    result = df.count()\n",
    "    if result == 0:\n",
    "        print(\"Data quality check failed for {} with zero records\".format(description))\n",
    "    else:\n",
    "        print(\"Data quality check passed for {} with {} records\".format(description, result))\n",
    "    return 0\n",
    "\n",
    "# Perform data quality check\n",
    "quality_check(df_country, \"country table\")\n",
    "quality_check(df_cnotes, \"country_notes table\")\n",
    "quality_check(df_fnotes, \"foot_notes table\")\n",
    "quality_check(df_indicator, \"indicator table\")\n",
    "quality_check(df_series, \"series table\")\n",
    "quality_check(df_snotes, \"series notes table\")"
   ]
  },
  {
   "cell_type": "markdown",
   "metadata": {},
   "source": [
    "#### 4.3 Data dictionary \n",
    "Table is generated from the df-country dataframe\n",
    "- *Country*_\n",
    "       country_code= unique char(3) value,\n",
    "       short_name = unique short name of country,\n",
    "       medium_name = unique medium name of the country,\n",
    "       long_name = unique long name of the country,\n",
    "       alpha2_code = unique char(2) value,\n",
    "       currency_unit = currency unit of the country,\n",
    "       region = area of the region,\n",
    "       income_group =  income group middle/low/high ,\n",
    "       wb2_code = unique char(2) value,\n",
    "       national_account_Base = coantin the year ,\n",
    "       Sna_price_valuation = price valuation,\n",
    "       system_national_accounts = history of account,\n",
    "       balance_pay_manual = balance detail,\n",
    "       system_trade = trade description,\n",
    "       gov_account_concept = account concept of the gov,\n",
    "       imf_data = imf data value,\n",
    "       latest_pop_census = population census,\n",
    "       latest_industrial_data = industry census,\n",
    "       latest_trade_data = trade census,\n",
    "       latest_water_with_Data = water census\n",
    "\n",
    "- *CountryNotes*_ \n",
    "       country_code unique char(3) value,\n",
    "       series_code = Serial code,\n",
    "       description = description of the country,\n",
    "       PRIMARY KEY (country_code,series_code)\n",
    "       \n",
    "Table is generated from the df-fnotes dataframe\n",
    "- *Footnotes*_\n",
    "       country_code =  unique char(3) value,\n",
    "       series_code = Serial code,\n",
    "       year = year,\n",
    "       description = description of the country ,\n",
    "       PRIMARY KEY (country_code,year)\n",
    "\n",
    "Table is generated from the df-indicator dataframe\n",
    "- *Indicators*_\n",
    "       country_name = country name,\n",
    "       country_code  = unique char(3) value,\n",
    "       indicator_name = indicator name in the country,\n",
    "       indicator_code = indicator code of the indicator,\n",
    "       year = year,\n",
    "       value = value of the indicator,\n",
    "       PRIMARY KEY (indicator_code,country_code)\n",
    "       \n",
    "\n",
    "\n",
    "Table is generated from the df-series dataframe\n",
    " \n",
    "- *Series*_\n",
    "       series_code = Serial code,\n",
    "       topic = topic of series,\n",
    "       indicator_name indicator name in the country,\n",
    "       long_definition = long def,\n",
    "       periodicity = period of the series,\n",
    "       source = source of the data,\n",
    "       license_type = type of license in the country\n",
    "\n",
    "Table is generated from the df-snotes dataframe\n",
    "- *SeriesNotes*_\n",
    "       series_code VARCHAR NOT NULL,\n",
    "       year = year,\n",
    "       description = description,\n",
    "       PRIMARY KEY (year,series_code)"
   ]
  },
  {
   "cell_type": "markdown",
   "metadata": {},
   "source": [
    "#### Step 5: Complete Project Write Up\n",
    "* Clearly state the rationale for the choice of tools and technologies for the project.\n",
    "* Propose how often the data should be updated and why.\n",
    "* Write a description of how you would approach the problem differently under the following scenarios:\n",
    " * The data was increased by 100x.\n",
    " * The data populates a dashboard that must be updated on a daily basis by 7am every day.\n",
    " * The database needed to be accessed by 100+ people.\n",
    " \n",
    " \n",
    " \n",
    "#### Techonlogies used\n",
    "- <strong>Spark</strong> - fast data transformation of the large data in distributed enviroment\n",
    "- <strong>python</strong> - for easy functionality of the python with spark using pyspark\n",
    "- <strong>Postgres</strong> - building a relational database\n",
    "\n",
    "#### Updating cycle\n",
    "- country = popuation, industrial, and other resources data change every year/monthly\n",
    "- CountryNotes = mostly remain constant\n",
    "- footnotes = data change every year by unesco \n",
    "- indicator = update the various indicator present every year/monthly\n",
    "- series = mostly remain constant \n",
    "- seriesnotes = constant\n",
    "\n",
    "#### Scenarios\n",
    "* <strong>The data was increased by 100x.</strong> \n",
    "  if data increase than the create more node using spark cluster\n",
    "* <strong>The data populates a dashboard that must be updated on a daily basis by 7am every day.</strong>\n",
    "  build a data pipeline that run on a specific schedule\n",
    "* <strong>The database needed to be accessed by 100+ people.</strong>\n",
    "  using external service of the handling the server so that the data is conserve and live at all the time and can reduce latency"
   ]
  },
  {
   "cell_type": "code",
   "execution_count": null,
   "metadata": {},
   "outputs": [],
   "source": []
  }
 ],
 "metadata": {
  "kernelspec": {
   "display_name": "Python 3",
   "language": "python",
   "name": "python3"
  },
  "language_info": {
   "codemirror_mode": {
    "name": "ipython",
    "version": 3
   },
   "file_extension": ".py",
   "mimetype": "text/x-python",
   "name": "python",
   "nbconvert_exporter": "python",
   "pygments_lexer": "ipython3",
   "version": "3.7.6"
  }
 },
 "nbformat": 4,
 "nbformat_minor": 4
}
